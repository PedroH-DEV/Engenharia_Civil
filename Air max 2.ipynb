{
  "cells": [
    {
      "cell_type": "markdown",
      "metadata": {
        "id": "view-in-github",
        "colab_type": "text"
      },
      "source": [
        "<a href=\"https://colab.research.google.com/github/PedroH-DEV/Engenharia_Civil/blob/main/Air%20max%202.ipynb\" target=\"_parent\"><img src=\"https://colab.research.google.com/assets/colab-badge.svg\" alt=\"Open In Colab\"/></a>"
      ]
    },
    {
      "cell_type": "code",
      "source": [
        "while True:\n",
        "  # pergunta ao usuasrio se deseja realizar a soma de duas variáveis\n",
        "  resposta = input(\"Deseja realizar a soma de 2 variáveis? (S/N): \").strip().upper()\n",
        "\n",
        "  # se a resposta for \"s\", realize a soma\n",
        "  if resposta == \"S\":\n",
        "    # silicita ao usuario que insira os valores das variáveis\n",
        "    valor1 = float(input(\"Digite o primeiro valor: \"))\n",
        "    valor2 = float(input(\"Digite o segundo valor: \"))\n",
        "\n",
        "    # realiza a soma dos valores das variáveis\n",
        "    soma = valor1 + valor2\n",
        "\n",
        "    # exibe o resultado da soma\n",
        "    print(f\"A soma de {valor1} e {valor2} é: {soma:.2f}\\n\")\n",
        "\n",
        "  # se a resposta for \"N\" , termine o loop\n",
        "  elif resposta == \"N\":\n",
        "    print(\"Obrigado por usar o programa!\\n\")\n",
        "    break\n",
        "\n",
        "  # caso o usuario insira uma resposta inválida, solicita novamente\n",
        "  else:\n",
        "    print(\"Resposta inválida. Por favor, insira 'S' para sim ou 'N' para não.\\n\")\n",
        "\n"
      ],
      "metadata": {
        "id": "t0PvEauvuLyP",
        "outputId": "0927e5eb-b71e-4437-e512-18480fa8cda2",
        "colab": {
          "base_uri": "https://localhost:8080/"
        }
      },
      "execution_count": null,
      "outputs": [
        {
          "output_type": "stream",
          "name": "stdout",
          "text": [
            "Deseja realizar a soma de 2 variáveis? (S/N): S\n",
            "Digite o primeiro valor: 1\n",
            "Digite o segundo valor: 2\n",
            "A soma de 1.0 e 2.0 é: 3.00\n",
            "\n"
          ]
        }
      ]
    },
    {
      "cell_type": "code",
      "source": [
        "while True:\n",
        "  resposta = input(\"deseja realizar uma soma? (sim/não): \").lower()\n",
        "  if resposta == \"sim\":\n",
        "    valor1 = float(input(\"Digite o primeiro valor: \"))\n",
        "    valor2 = float(input(\"Digite o segundo valor: \"))\n",
        "    soma = valor1 + valor2 # Cálculo da soma\n",
        "    print(\"A soma é:\" , soma)\n",
        "  else:\n",
        "    print(\"Encerrado o programa. \")\n",
        "    break"
      ],
      "metadata": {
        "id": "XKMJKdyGwyUD",
        "outputId": "6a1b6778-47cf-4968-f202-368bba5426e8",
        "colab": {
          "base_uri": "https://localhost:8080/"
        }
      },
      "execution_count": 7,
      "outputs": [
        {
          "output_type": "stream",
          "name": "stdout",
          "text": [
            "deseja realizar uma soma? (sim/não): S\n",
            "Encerrado o programa. \n"
          ]
        }
      ]
    }
  ],
  "metadata": {
    "colab": {
      "name": "Damos-lhe as boas-vindas ao Colaboratory",
      "toc_visible": true,
      "provenance": [],
      "include_colab_link": true
    },
    "kernelspec": {
      "display_name": "Python 3",
      "name": "python3"
    }
  },
  "nbformat": 4,
  "nbformat_minor": 0
}