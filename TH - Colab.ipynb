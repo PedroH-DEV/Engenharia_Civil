{
  "nbformat": 4,
  "nbformat_minor": 0,
  "metadata": {
    "colab": {
      "provenance": [],
      "toc_visible": true,
      "authorship_tag": "ABX9TyOE2ryP/iqsN2WS36v/Akcj",
      "include_colab_link": true
    },
    "kernelspec": {
      "name": "python3",
      "display_name": "Python 3"
    },
    "language_info": {
      "name": "python"
    }
  },
  "cells": [
    {
      "cell_type": "markdown",
      "metadata": {
        "id": "view-in-github",
        "colab_type": "text"
      },
      "source": [
        "<a href=\"https://colab.research.google.com/github/PedroH-DEV/Engenharia_Civil/blob/main/TH%20-%20Colab.ipynb\" target=\"_parent\"><img src=\"https://colab.research.google.com/assets/colab-badge.svg\" alt=\"Open In Colab\"/></a>"
      ]
    },
    {
      "cell_type": "markdown",
      "source": [
        "**AULA 3**\n",
        "\n",
        "#Aprendendo cod python"
      ],
      "metadata": {
        "id": "R2Yb97JgjhNC"
      }
    },
    {
      "cell_type": "markdown",
      "source": [
        "#AULA 4\n",
        "\n",
        "Material 2"
      ],
      "metadata": {
        "id": "MwCamRghi3y1"
      }
    },
    {
      "cell_type": "markdown",
      "source": [
        "#exemplo 3"
      ],
      "metadata": {
        "id": "AFGucYsCnXFo"
      }
    },
    {
      "cell_type": "code",
      "source": [
        "numero = int(input(\"Digite um número inteiro: \"))\n",
        "\n",
        "if numero % 2 == 0:\n",
        "  print(f\"O número {numero} é par.\")\n",
        "\n",
        "else:\n",
        "  print(f\"O número {numero} é ímpar.\")"
      ],
      "metadata": {
        "colab": {
          "base_uri": "https://localhost:8080/"
        },
        "id": "N7ryl0S8i2iM",
        "outputId": "6c881bce-288e-4ae9-a9d5-95a119acd226"
      },
      "execution_count": null,
      "outputs": [
        {
          "output_type": "stream",
          "name": "stdout",
          "text": [
            "Digite um número inteiro: 30\n",
            "O número 30 é par.\n"
          ]
        }
      ]
    },
    {
      "cell_type": "code",
      "source": [
        "numero = int(input(\"Digite um número inteiro: \"))\n",
        "\n",
        "if numero % 2 == 0:\n",
        "  print(f\"O número {numero} é par.\")\n",
        "\n",
        "else:\n",
        "  print(f\"O número {numero} é ímpar.\")"
      ],
      "metadata": {
        "colab": {
          "base_uri": "https://localhost:8080/"
        },
        "id": "Ge49zDNXnE6u",
        "outputId": "5aad5aa3-b5a5-42d6-b232-f556494fec40"
      },
      "execution_count": null,
      "outputs": [
        {
          "output_type": "stream",
          "name": "stdout",
          "text": [
            "Digite um número inteiro: 15\n",
            "O número 15 é ímpar.\n"
          ]
        }
      ]
    },
    {
      "cell_type": "code",
      "source": [
        "numero = int(input(\"Digite um número inteiro: \"))\n",
        "\n",
        "if numero % 2 == 0:\n",
        "  print(f\"O número {numero} é par.\")\n",
        "\n",
        "else:\n",
        "  print(f\"O número {numero} é ímpar.\")"
      ],
      "metadata": {
        "colab": {
          "base_uri": "https://localhost:8080/"
        },
        "id": "tR8ab9lQnJCX",
        "outputId": "6d7e8b1b-9add-46ff-fb82-5b3c9f4da06c"
      },
      "execution_count": null,
      "outputs": [
        {
          "output_type": "stream",
          "name": "stdout",
          "text": [
            "Digite um número inteiro: 10\n",
            "O número 10 é par.\n"
          ]
        }
      ]
    },
    {
      "cell_type": "code",
      "source": [
        "numero = int(input(\"Digite um número inteiro: \"))\n",
        "\n",
        "if numero % 2 == 0:\n",
        "  print(f\"O número {numero} é par.\")\n",
        "\n",
        "else:\n",
        "  print(f\"O número {numero} é ímpar.\")"
      ],
      "metadata": {
        "colab": {
          "base_uri": "https://localhost:8080/"
        },
        "id": "tU-45GW9nM8I",
        "outputId": "7f44a01e-89b6-426b-d527-6abe1c98314d"
      },
      "execution_count": null,
      "outputs": [
        {
          "output_type": "stream",
          "name": "stdout",
          "text": [
            "Digite um número inteiro: 5\n",
            "O número 5 é ímpar.\n"
          ]
        }
      ]
    },
    {
      "cell_type": "markdown",
      "source": [
        "#exemplo 4"
      ],
      "metadata": {
        "id": "I-pf5y6dnfoL"
      }
    },
    {
      "cell_type": "code",
      "source": [
        "import math\n",
        "\n",
        "numero = float(input(\"Digite um número: \"))\n",
        "\n",
        "if numero >= 0:\n",
        "  raiz_quadrada = math.sqrt(numero)\n",
        "  print(f\"A raiz quadrada de {numero} é {raiz_quadrada: .2f}.\")\n",
        "\n",
        "else:\n",
        "  print(\"Não existe raiz real para este número !\")"
      ],
      "metadata": {
        "colab": {
          "base_uri": "https://localhost:8080/"
        },
        "id": "v6XUOZGanhog",
        "outputId": "fe3b5e8f-0c91-41ad-e5b1-14ce4d6b8d17"
      },
      "execution_count": null,
      "outputs": [
        {
          "output_type": "stream",
          "name": "stdout",
          "text": [
            "Digite um número: 4\n",
            "A raiz quadrada de 4.0 é  2.00.\n"
          ]
        }
      ]
    },
    {
      "cell_type": "code",
      "source": [
        "import math\n",
        "\n",
        "numero = float(input(\"Digite um número: \"))\n",
        "\n",
        "if numero >= 0:\n",
        "  raiz_quadrada = math.sqrt(numero)\n",
        "  print(f\"A raiz quadrada de {numero} é {raiz_quadrada: .2f}.\")\n",
        "\n",
        "else:\n",
        "  print(\"Não existe raiz real para este número !\")"
      ],
      "metadata": {
        "colab": {
          "base_uri": "https://localhost:8080/"
        },
        "id": "1WkIwKHSox-l",
        "outputId": "c340e624-61c6-4abb-fb76-e51612a2be9a"
      },
      "execution_count": null,
      "outputs": [
        {
          "output_type": "stream",
          "name": "stdout",
          "text": [
            "Digite um número: 9\n",
            "A raiz quadrada de 9.0 é  3.00.\n"
          ]
        }
      ]
    },
    {
      "cell_type": "code",
      "source": [
        "import math\n",
        "\n",
        "numero = float(input(\"Digite um número: \"))\n",
        "\n",
        "if numero >= 0:\n",
        "  raiz_quadrada = math.sqrt(numero)\n",
        "  print(f\"A raiz quadrada de {numero} é {raiz_quadrada: .2f}.\")\n",
        "\n",
        "else:\n",
        "  print(\"Não existe raiz real para este número !\")"
      ],
      "metadata": {
        "colab": {
          "base_uri": "https://localhost:8080/"
        },
        "id": "UlBffzBWo2Or",
        "outputId": "0b9d3ad5-3cd0-47c1-d645-1efdfc851d23"
      },
      "execution_count": null,
      "outputs": [
        {
          "output_type": "stream",
          "name": "stdout",
          "text": [
            "Digite um número: 10\n",
            "A raiz quadrada de 10.0 é  3.16.\n"
          ]
        }
      ]
    },
    {
      "cell_type": "code",
      "source": [
        "import math\n",
        "\n",
        "numero = float(input(\"Digite um número: \"))\n",
        "\n",
        "if numero >= 0:\n",
        "  raiz_quadrada = math.sqrt(numero)\n",
        "  print(f\"A raiz quadrada de {numero} é {raiz_quadrada: .2f}.\")\n",
        "\n",
        "else:\n",
        "  print(\"Não existe raiz real para este número !\")"
      ],
      "metadata": {
        "colab": {
          "base_uri": "https://localhost:8080/"
        },
        "id": "j390WIrDo4x7",
        "outputId": "98332c99-36c3-4df1-c765-c5b22b37cdde"
      },
      "execution_count": null,
      "outputs": [
        {
          "output_type": "stream",
          "name": "stdout",
          "text": [
            "Digite um número: 5\n",
            "A raiz quadrada de 5.0 é  2.24.\n"
          ]
        }
      ]
    },
    {
      "cell_type": "code",
      "source": [
        "import math\n",
        "\n",
        "numero = float(input(\"Digite um número: \"))\n",
        "\n",
        "if numero >= 0:\n",
        "  raiz_quadrada = math.sqrt(numero)\n",
        "  print(f\"A raiz quadrada de {numero} é {raiz_quadrada: .2f}.\")\n",
        "\n",
        "else:\n",
        "  print(\"Não existe raiz real para este número !\")"
      ],
      "metadata": {
        "colab": {
          "base_uri": "https://localhost:8080/"
        },
        "id": "7FAEclP7o8B6",
        "outputId": "38d8fedc-1bb9-43da-a6d6-d0bb45f5c9bf"
      },
      "execution_count": null,
      "outputs": [
        {
          "output_type": "stream",
          "name": "stdout",
          "text": [
            "Digite um número: -4\n",
            "Não existe raiz real para este número !\n"
          ]
        }
      ]
    },
    {
      "cell_type": "markdown",
      "source": [
        "#exemplo 5"
      ],
      "metadata": {
        "id": "TTOL8gz1pGAB"
      }
    },
    {
      "cell_type": "code",
      "source": [
        "comprimento = float(input(\"Digite o comprimento da camiseta em centímetros: \"))\n",
        "largura = float(input(\"Digite a largura da camiseta em centímetros: \"))\n",
        "\n",
        "if comprimento <= 60 and largura <=45:\n",
        "  tamanho = \"PP\"\n",
        "elif comprimento <= 65 and largura <= 48:\n",
        "  tamanho = \"P\"\n",
        "elif comprimento <= 70 and largura <= 51:\n",
        "  tamanho = \"M\"\n",
        "elif comprimento <= 75 and largura <= 54:\n",
        "  tamanho = \"G\"\n",
        "elif comprimento <= 80 and largura <= 57:\n",
        "  tamanho = \"GG\"\n",
        "else:\n",
        "  tamanho = \"XGG\"\n",
        "\n",
        "print(f\"O tamanho da camiseta é {tamanho}\")"
      ],
      "metadata": {
        "colab": {
          "base_uri": "https://localhost:8080/"
        },
        "id": "5OlqrFbbpFr2",
        "outputId": "7b190f7d-9d00-4c54-984a-6850bb6d065a"
      },
      "execution_count": null,
      "outputs": [
        {
          "output_type": "stream",
          "name": "stdout",
          "text": [
            "Digite o comprimento da camiseta em centímetros: 60\n",
            "Digite a largura da camiseta em centímetros: 45\n",
            "O tamanho da camiseta é PP\n"
          ]
        }
      ]
    },
    {
      "cell_type": "markdown",
      "source": [],
      "metadata": {
        "id": "6RSM-jGwjXaa"
      }
    },
    {
      "cell_type": "code",
      "source": [
        "comprimento = float(input(\"Digite o comprimento da camiseta em centímetros: \"))\n",
        "largura = float(input(\"Digite a largura da camiseta em centímetros: \"))\n",
        "\n",
        "if comprimento <= 60 and largura <=45:\n",
        "  tamanho = \"PP\"\n",
        "elif comprimento <= 65 and largura <= 48:\n",
        "  tamanho = \"P\"\n",
        "elif comprimento <= 70 and largura <= 51:\n",
        "  tamanho = \"M\"\n",
        "elif comprimento <= 75 and largura <= 54:\n",
        "  tamanho = \"G\"\n",
        "elif comprimento <= 80 and largura <= 57:\n",
        "  tamanho = \"GG\"\n",
        "else:\n",
        "  tamanho = \"XGG\"\n",
        "\n",
        "print(f\"O tamanho da camiseta é {tamanho}\")"
      ],
      "metadata": {
        "colab": {
          "base_uri": "https://localhost:8080/"
        },
        "id": "e247KXGOrMhi",
        "outputId": "e6a810b2-6f48-43f7-e32a-e4b10f14cc09"
      },
      "execution_count": null,
      "outputs": [
        {
          "output_type": "stream",
          "name": "stdout",
          "text": [
            "Digite o comprimento da camiseta em centímetros: 65\n",
            "Digite a largura da camiseta em centímetros: 48\n",
            "O tamanho da camiseta é P\n"
          ]
        }
      ]
    },
    {
      "cell_type": "code",
      "source": [
        "comprimento = float(input(\"Digite o comprimento da camiseta em centímetros: \"))\n",
        "largura = float(input(\"Digite a largura da camiseta em centímetros: \"))\n",
        "\n",
        "if comprimento <= 60 and largura <=45:\n",
        "  tamanho = \"PP\"\n",
        "elif comprimento <= 65 and largura <= 48:\n",
        "  tamanho = \"P\"\n",
        "elif comprimento <= 70 and largura <= 51:\n",
        "  tamanho = \"M\"\n",
        "elif comprimento <= 75 and largura <= 54:\n",
        "  tamanho = \"G\"\n",
        "elif comprimento <= 80 and largura <= 57:\n",
        "  tamanho = \"GG\"\n",
        "else:\n",
        "  tamanho = \"XGG\"\n",
        "\n",
        "print(f\"O tamanho da camiseta é {tamanho}\")"
      ],
      "metadata": {
        "colab": {
          "base_uri": "https://localhost:8080/"
        },
        "id": "qrejgDY9rPKE",
        "outputId": "c48946da-bff1-4203-a8aa-94d7f1debab1"
      },
      "execution_count": null,
      "outputs": [
        {
          "output_type": "stream",
          "name": "stdout",
          "text": [
            "Digite o comprimento da camiseta em centímetros: 70\n",
            "Digite a largura da camiseta em centímetros: 51\n",
            "O tamanho da camiseta é M\n"
          ]
        }
      ]
    },
    {
      "cell_type": "code",
      "source": [
        "comprimento = float(input(\"Digite o comprimento da camiseta em centímetros: \"))\n",
        "largura = float(input(\"Digite a largura da camiseta em centímetros: \"))\n",
        "\n",
        "if comprimento <= 60 and largura <=45:\n",
        "  tamanho = \"PP\"\n",
        "elif comprimento <= 65 and largura <= 48:\n",
        "  tamanho = \"P\"\n",
        "elif comprimento <= 70 and largura <= 51:\n",
        "  tamanho = \"M\"\n",
        "elif comprimento <= 75 and largura <= 54:\n",
        "  tamanho = \"G\"\n",
        "elif comprimento <= 80 and largura <= 57:\n",
        "  tamanho = \"GG\"\n",
        "else:\n",
        "  tamanho = \"XGG\"\n",
        "\n",
        "print(f\"O tamanho da camiseta é {tamanho}\")"
      ],
      "metadata": {
        "colab": {
          "base_uri": "https://localhost:8080/"
        },
        "id": "Ob9bpj8jrSCq",
        "outputId": "c714aefe-6c36-4194-92b0-ca01b611a0d8"
      },
      "execution_count": null,
      "outputs": [
        {
          "output_type": "stream",
          "name": "stdout",
          "text": [
            "Digite o comprimento da camiseta em centímetros: 80\n",
            "Digite a largura da camiseta em centímetros: 57\n",
            "O tamanho da camiseta é GG\n"
          ]
        }
      ]
    },
    {
      "cell_type": "code",
      "source": [
        "comprimento = float(input(\"Digite o comprimento da camiseta em centímetros: \"))\n",
        "largura = float(input(\"Digite a largura da camiseta em centímetros: \"))\n",
        "\n",
        "if comprimento <= 60 and largura <=45:\n",
        "  tamanho = \"PP\"\n",
        "elif comprimento <= 65 and largura <= 48:\n",
        "  tamanho = \"P\"\n",
        "elif comprimento <= 70 and largura <= 51:\n",
        "  tamanho = \"M\"\n",
        "elif comprimento <= 75 and largura <= 54:\n",
        "  tamanho = \"G\"\n",
        "elif comprimento <= 80 and largura <= 57:\n",
        "  tamanho = \"GG\"\n",
        "else:\n",
        "  tamanho = \"XGG\"\n",
        "\n",
        "print(f\"O tamanho da camiseta é {tamanho}\")"
      ],
      "metadata": {
        "colab": {
          "base_uri": "https://localhost:8080/"
        },
        "id": "t_ONDQkfrWot",
        "outputId": "42dd0e99-728b-4b3d-89cc-08326b28def2"
      },
      "execution_count": null,
      "outputs": [
        {
          "output_type": "stream",
          "name": "stdout",
          "text": [
            "Digite o comprimento da camiseta em centímetros: 90\n",
            "Digite a largura da camiseta em centímetros: 60\n",
            "O tamanho da camiseta é XGG\n"
          ]
        }
      ]
    },
    {
      "cell_type": "markdown",
      "source": [
        "#Alg&LP_03 - EXERCÍCIOS EXTRAS"
      ],
      "metadata": {
        "id": "gw1apHRHlisI"
      }
    },
    {
      "cell_type": "markdown",
      "source": [
        "01) Elaborar um programa em python que solicite ao\n",
        "usuário um valor inteiro e em seguida informe ao usuário se o valor é múltiplo de 3 ou não. A seguir o pseudocódigo referente ao algoritmo do programa:\n",
        "início\n",
        " inteiro: x, r\n",
        " Ler x\n",
        " r = resto da divisao de x por 3\n",
        " se (r==0) então:\n",
        " escrever \"Múltiplo\"\n",
        " senão:\n",
        " escrever \"Não múltiplo\"\n",
        " fim se\n",
        "fim\n"
      ],
      "metadata": {
        "id": "3FsZOZlslxOY"
      }
    },
    {
      "cell_type": "code",
      "source": [
        "x = int(input(\"Digite um número inteiro: \"))\n",
        "\n",
        "r = x % 3\n",
        "\n",
        "if r == 0:\n",
        "  print(f\"Múltiplo\")\n",
        "\n",
        "else:\n",
        "  print(f\"Não múltiplo\")"
      ],
      "metadata": {
        "colab": {
          "base_uri": "https://localhost:8080/"
        },
        "id": "ZN9O8pRFl11j",
        "outputId": "158ac1c3-7a84-4fe4-9388-1e41ec883ec5"
      },
      "execution_count": 16,
      "outputs": [
        {
          "output_type": "stream",
          "name": "stdout",
          "text": [
            "Digite um número inteiro: 15\n",
            "Múltiplo\n"
          ]
        }
      ]
    },
    {
      "cell_type": "code",
      "source": [
        "x = int(input(\"Digite um número inteiro: \"))\n",
        "\n",
        "r = x % 3\n",
        "\n",
        "if r == 0:\n",
        "  print(f\"Múltiplo\")\n",
        "\n",
        "else:\n",
        "  print(f\"Não múltiplo\")"
      ],
      "metadata": {
        "colab": {
          "base_uri": "https://localhost:8080/"
        },
        "id": "bBOg76oVnQcl",
        "outputId": "2045e890-549d-473c-ae60-007793bba681"
      },
      "execution_count": 6,
      "outputs": [
        {
          "output_type": "stream",
          "name": "stdout",
          "text": [
            "Digite um número inteiro: 4\n",
            "Não múltiplo\n"
          ]
        }
      ]
    },
    {
      "cell_type": "markdown",
      "source": [
        "02) Dadas as notas a e b de um aluno, com pesos respectivamente 2 e 3; pede-se elaborar um programa em Python para calcular e exibir a média ponderada do aluno, verificar e informar, junto ao valor da sua média, se foi aprovado ou não (OBS: Considere aprovado se obtiver média igual ou superior a 5).negrito"
      ],
      "metadata": {
        "id": "jxam1kASnS7d"
      }
    },
    {
      "cell_type": "code",
      "source": [
        "# solicite ao usuário que ele insira as notas \"A\" e \"B\" de um aluno\n",
        "nota_a = float(input(\"Digite a nota A: \"))\n",
        "nota_b = float(input(\"Digite a nota B: \"))\n",
        "\n",
        "# calcule a média ponderada\n",
        "media_ponderada = (nota_a * 2 + nota_b * 3) / 5\n",
        "\n",
        "# imprima a média ponderada\n",
        "print(f\"A média ponderada do aluno é: {media_ponderada}\")\n",
        "\n",
        "if media_ponderada >= 5:\n",
        "  print(f\"Aprovado\")\n",
        "\n",
        "else:\n",
        "  print(f\"Reprovado\")\n"
      ],
      "metadata": {
        "colab": {
          "base_uri": "https://localhost:8080/"
        },
        "id": "O42uxPfWqusg",
        "outputId": "b6f71854-0417-4e79-f7e1-9a11d24eea70"
      },
      "execution_count": 9,
      "outputs": [
        {
          "output_type": "stream",
          "name": "stdout",
          "text": [
            "Digite a nota A: 10\n",
            "Digite a nota B: 10\n",
            "A média ponderada do aluno é: 10.0\n",
            "Aprovado\n"
          ]
        }
      ]
    },
    {
      "cell_type": "code",
      "source": [
        "# solicite ao usuário que ele insira as notas \"A\" e \"B\" de um aluno\n",
        "nota_a = float(input(\"Digite a nota A: \"))\n",
        "nota_b = float(input(\"Digite a nota B: \"))\n",
        "\n",
        "# calcule a média ponderada\n",
        "media_ponderada = (nota_a * 2 + nota_b * 3) / 5\n",
        "\n",
        "# imprima a média ponderada\n",
        "print(f\"A média ponderada do aluno é: {media_ponderada}\")\n",
        "\n",
        "if media_ponderada >= 5:\n",
        "  print(f\"Aprovado\")\n",
        "\n",
        "else:\n",
        "  print(f\"Reprovado\")"
      ],
      "metadata": {
        "colab": {
          "base_uri": "https://localhost:8080/"
        },
        "id": "Uo9A7c-Zrb9o",
        "outputId": "6d83ea63-42b7-4ca5-a32f-beb38f6c17a4"
      },
      "execution_count": 10,
      "outputs": [
        {
          "output_type": "stream",
          "name": "stdout",
          "text": [
            "Digite a nota A: 4\n",
            "Digite a nota B: 3\n",
            "A média ponderada do aluno é: 3.4\n",
            "Reprovado\n"
          ]
        }
      ]
    },
    {
      "cell_type": "markdown",
      "source": [
        "03) Dado o algoritmo a seguir, elabore o código python do programa em questão:\n",
        "Início\n",
        "Leia os três valores: a, b e c.\n",
        "Compare os valores:\n",
        "Se a é menor ou igual a b e a é menor ou igual a c, então\n",
        "a é o menor valor.\n",
        "Caso contrário, se b é menor ou igual a a e b é menor ou igual a c, entãob é o menor valor.\n",
        "Caso contrário,\n",
        "c é o menor valor.\n",
        "Exiba o menor valor.\n",
        "Fim"
      ],
      "metadata": {
        "id": "8s0g5CTlsF7G"
      }
    },
    {
      "cell_type": "code",
      "source": [
        "a = float(input(\"Digite o valor de A: \"))\n",
        "b = float(input(\"Digite o valor de B: \"))\n",
        "c = float(input(\"Digite o valor de C: \"))\n",
        "\n",
        "if a <= b and a <= c:\n",
        "  menor_valor = a\n",
        "\n",
        "elif b <= a and b <= c:\n",
        "  menor_valor = b\n",
        "\n",
        "else:\n",
        "  menor_valor = c\n",
        "\n",
        "print(f\"O menor valor é: {menor_valor}\")"
      ],
      "metadata": {
        "colab": {
          "base_uri": "https://localhost:8080/"
        },
        "id": "uGc0IyY7sLvD",
        "outputId": "6a3cdd60-6da5-4eab-92cb-96e4d2a793c3"
      },
      "execution_count": 11,
      "outputs": [
        {
          "output_type": "stream",
          "name": "stdout",
          "text": [
            "Digite o valor de A: 1\n",
            "Digite o valor de B: 2\n",
            "Digite o valor de C: 3\n",
            "O menor valor é: 1.0\n"
          ]
        }
      ]
    },
    {
      "cell_type": "code",
      "source": [
        "a = float(input(\"Digite o valor de A: \"))\n",
        "b = float(input(\"Digite o valor de B: \"))\n",
        "c = float(input(\"Digite o valor de C: \"))\n",
        "\n",
        "if a <= b and a <= c:\n",
        "  menor_valor = a\n",
        "\n",
        "elif b <= a and b <= c:\n",
        "  menor_valor = b\n",
        "\n",
        "else:\n",
        "  menor_valor = c\n",
        "\n",
        "print(f\"O menor valor é: {menor_valor}\")"
      ],
      "metadata": {
        "colab": {
          "base_uri": "https://localhost:8080/"
        },
        "id": "V5AHwS5CsaDM",
        "outputId": "50de4636-d5fd-4076-9355-964291a73647"
      },
      "execution_count": 12,
      "outputs": [
        {
          "output_type": "stream",
          "name": "stdout",
          "text": [
            "Digite o valor de A: 3\n",
            "Digite o valor de B: 1\n",
            "Digite o valor de C: 2\n",
            "O menor valor é: 1.0\n"
          ]
        }
      ]
    },
    {
      "cell_type": "code",
      "source": [
        "a = float(input(\"Digite o valor de A: \"))\n",
        "b = float(input(\"Digite o valor de B: \"))\n",
        "c = float(input(\"Digite o valor de C: \"))\n",
        "\n",
        "if a <= b and a <= c:\n",
        "  menor_valor = a\n",
        "\n",
        "elif b <= a and b <= c:\n",
        "  menor_valor = b\n",
        "\n",
        "else:\n",
        "  menor_valor = c\n",
        "\n",
        "print(f\"O menor valor é: {menor_valor}\")"
      ],
      "metadata": {
        "colab": {
          "base_uri": "https://localhost:8080/"
        },
        "id": "f4CbdLsFsdHT",
        "outputId": "7d5a85f1-c50c-448b-ea5d-f12c8c11edd6"
      },
      "execution_count": 13,
      "outputs": [
        {
          "output_type": "stream",
          "name": "stdout",
          "text": [
            "Digite o valor de A: 3\n",
            "Digite o valor de B: 2\n",
            "Digite o valor de C: 1\n",
            "O menor valor é: 1.0\n"
          ]
        }
      ]
    },
    {
      "cell_type": "markdown",
      "source": [
        "01) Elaborar um programa em python que solicite ao\n",
        "usuário um valor inteiro e em seguida informe ao usuário se o valor é múltiplo de 3 ou não. A seguir o pseudocódigo referente ao algoritmo do programa:\n",
        "início\n",
        " inteiro: x, r\n",
        " Ler x\n",
        " r = resto da divisao de x por 3\n",
        " se (r==0) então:\n",
        " escrever \"Múltiplo\"\n",
        " senão:\n",
        " escrever \"Não múltiplo\"\n",
        " fim se\n",
        "fim"
      ],
      "metadata": {
        "id": "uJe65JfUtJRt"
      }
    },
    {
      "cell_type": "code",
      "source": [
        "x = int(input(\"Digite um número inteiro: \"))\n",
        "\n",
        "r = x % 3\n",
        "\n",
        "if r == 0:\n",
        "  print(f\"Múltiplo\")\n",
        "\n",
        "else:\n",
        "  print(f\"Não múltiplo\")"
      ],
      "metadata": {
        "colab": {
          "base_uri": "https://localhost:8080/"
        },
        "id": "gVZtYJ-UtL4b",
        "outputId": "14f2f008-1e22-4211-80d7-4b176ab40f29"
      },
      "execution_count": 14,
      "outputs": [
        {
          "output_type": "stream",
          "name": "stdout",
          "text": [
            "Digite um número inteiro: 9\n",
            "Múltiplo\n"
          ]
        }
      ]
    }
  ]
}