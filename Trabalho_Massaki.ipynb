{
  "nbformat": 4,
  "nbformat_minor": 0,
  "metadata": {
    "colab": {
      "provenance": [],
      "authorship_tag": "ABX9TyP1oHXBq5a2kSffpStomuSe",
      "include_colab_link": true
    },
    "kernelspec": {
      "name": "python3",
      "display_name": "Python 3"
    },
    "language_info": {
      "name": "python"
    }
  },
  "cells": [
    {
      "cell_type": "markdown",
      "metadata": {
        "id": "view-in-github",
        "colab_type": "text"
      },
      "source": [
        "<a href=\"https://colab.research.google.com/github/PedroH-DEV/Engenharia_Civil/blob/main/Trabalho_Massaki.ipynb\" target=\"_parent\"><img src=\"https://colab.research.google.com/assets/colab-badge.svg\" alt=\"Open In Colab\"/></a>"
      ]
    },
    {
      "cell_type": "markdown",
      "source": [
        "# TRABALHO MASSAKI"
      ],
      "metadata": {
        "id": "YoTVUnveI8jk"
      }
    },
    {
      "cell_type": "markdown",
      "source": [
        "Ideias para o trabalho: Apresentação do APP de Requisição de Material.\n",
        "\n",
        "Montar um site para apresentação de um APP que faça requisições de materiais.\n",
        "\n",
        "Nesse app conterá o login de usuario, tela de solicitação e requisição do material escolhido, conterá um portifolio dos produtos disponiveis que irá estar descrito suas caracteristicas, imagem e quantidade em estoque. Haverá uma guia para entrar em contato com outros usuarios.\n",
        "\n"
      ],
      "metadata": {
        "id": "8z-PKT5hIDfc"
      }
    },
    {
      "cell_type": "code",
      "source": [],
      "metadata": {
        "id": "aiqQ0OyfJDnU"
      },
      "execution_count": null,
      "outputs": []
    }
  ]
}