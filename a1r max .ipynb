{
  "cells": [
    {
      "cell_type": "markdown",
      "metadata": {
        "id": "view-in-github",
        "colab_type": "text"
      },
      "source": [
        "<a href=\"https://colab.research.google.com/github/PedroH-DEV/Engenharia_Civil/blob/main/a1r%20max%20.ipynb\" target=\"_parent\"><img src=\"https://colab.research.google.com/assets/colab-badge.svg\" alt=\"Open In Colab\"/></a>"
      ]
    },
    {
      "cell_type": "code",
      "source": [
        "# solicita ao usuário um valor inteiro e se e múltiplo de três\n",
        "numero = int(input(\"Digite um número inteiro: \"))\n",
        "\n",
        "if numero % 3 == 0:\n",
        "  print(f\"O número {numero} é múltiplo.\")\n",
        "\n",
        "else:\n",
        "  print(f\"O número {numero} é não múltiplo.\")"
      ],
      "metadata": {
        "colab": {
          "base_uri": "https://localhost:8080/"
        },
        "id": "NvKZiTbClg7S",
        "outputId": "3e509b45-52cd-4db0-c14b-66937db6cd46"
      },
      "execution_count": 6,
      "outputs": [
        {
          "output_type": "stream",
          "name": "stdout",
          "text": [
            "Digite um número inteiro: 3\n",
            "O número 3 é múltiplo.\n"
          ]
        }
      ]
    },
    {
      "cell_type": "code",
      "source": [
        "# solicite ao usúario que insire a nota \"a\" e  \"b\" de um aluno\n",
        "nota_a = float(input(\"Digite a nota 'a': \"))\n",
        "nota_b = float(input(\"Digite a nota 'b': \"))\n",
        "\n",
        "# calcule a média poderada e considere a nota \"a\" com peso 2 e a nota \"b\" com peso 3\n",
        "media_ponderada = (nota_a * 2 + nota_b * 3) / 5\n",
        "\n",
        "# imprima a média ponderada\n",
        "print(f\"A média ponderada é: {media_ponderada}\")\n",
        "\n",
        "\n"
      ],
      "metadata": {
        "colab": {
          "base_uri": "https://localhost:8080/"
        },
        "id": "srlwDimkqNyW",
        "outputId": "168c7255-1332-46a4-f33c-773434d297fe"
      },
      "execution_count": 15,
      "outputs": [
        {
          "output_type": "stream",
          "name": "stdout",
          "text": [
            "Digite a nota 'a': 10\n",
            "Digite a nota 'b': 10\n",
            "A média ponderada é: 10.0\n"
          ]
        }
      ]
    },
    {
      "cell_type": "markdown",
      "source": [
        "03) Dado o algoritmo a seguir, elabore o código python do programa em questão:\n",
        "Início\n",
        "Leia os três valores: a, b e c.\n",
        "Compare os valores:\n",
        "Se a é menor ou igual a b e a é menor ou igual a c, então\n",
        "a é o menor valor.\n",
        "Caso contrário, se b é menor ou igual a a e b é menor ou igual a c, entãob é o menor valor.\n",
        "Caso contrário,\n",
        "c é o menor valor.\n",
        "Exiba o menor valor.\n",
        "Fim"
      ],
      "metadata": {
        "id": "VeHoBxwysSU7"
      }
    },
    {
      "cell_type": "code",
      "source": [
        "a = float(input(\"Digite o valor de 'a': \"))\n",
        "b = float(input(\"Digite o valor de 'b': \"))\n",
        "c = float(input(\"Digite o valor de 'c': \"))\n",
        "\n",
        "if a <= b and a <= c:\n",
        "  menor_valor = a\n",
        "elif b <= a and b <= c:\n",
        "  menor_valor = b\n",
        "else:\n",
        "  menor_valor = c\n",
        "\n",
        "print(f\"O menor valor é: {menor_valor}\")\n"
      ],
      "metadata": {
        "colab": {
          "base_uri": "https://localhost:8080/"
        },
        "id": "u67GFu3bsasc",
        "outputId": "85dfd878-00a7-441f-94ce-a5862af9f2d4"
      },
      "execution_count": 16,
      "outputs": [
        {
          "output_type": "stream",
          "name": "stdout",
          "text": [
            "Digite o valor de 'a': 1\n",
            "Digite o valor de 'b': 2\n",
            "Digite o valor de 'c': 3\n",
            "O menor valor é: 1.0\n"
          ]
        }
      ]
    },
    {
      "cell_type": "code",
      "source": [
        "a = float(input(\"Digite o valor de 'a': \"))\n",
        "b = float(input(\"Digite o valor de 'b': \"))\n",
        "c = float(input(\"Digite o valor de 'c': \"))\n",
        "\n",
        "if a <= b and a <= c:\n",
        "  menor_valor = a\n",
        "elif b <= a and b <= c:\n",
        "  menor_valor = b\n",
        "else:\n",
        "  menor_valor = c\n",
        "\n",
        "print(f\"O menor valor é: {menor_valor}\")\n"
      ],
      "metadata": {
        "colab": {
          "base_uri": "https://localhost:8080/"
        },
        "id": "4KyrqJ6xs3as",
        "outputId": "6aef83e6-518d-42ef-8876-ea4ed6d1a44e"
      },
      "execution_count": 17,
      "outputs": [
        {
          "output_type": "stream",
          "name": "stdout",
          "text": [
            "Digite o valor de 'a': 1\n",
            "Digite o valor de 'b': 2\n",
            "Digite o valor de 'c': 0\n",
            "O menor valor é: 0.0\n"
          ]
        }
      ]
    },
    {
      "cell_type": "code",
      "source": [
        "a = float(input(\"Digite o valor de 'a': \"))\n",
        "b = float(input(\"Digite o valor de 'b': \"))\n",
        "c = float(input(\"Digite o valor de 'c': \"))\n",
        "\n",
        "if a <= b and a <= c:\n",
        "  menor_valor = a\n",
        "elif b <= a and b <= c:\n",
        "  menor_valor = b\n",
        "else:\n",
        "  menor_valor = c\n",
        "\n",
        "print(f\"O menor valor é: {menor_valor}\")\n",
        "\n"
      ],
      "metadata": {
        "colab": {
          "base_uri": "https://localhost:8080/"
        },
        "id": "XCQ83OxitGWE",
        "outputId": "b673a656-649c-4f02-afa5-759376faa360"
      },
      "execution_count": 18,
      "outputs": [
        {
          "output_type": "stream",
          "name": "stdout",
          "text": [
            "Digite o valor de 'a': 3\n",
            "Digite o valor de 'b': 2\n",
            "Digite o valor de 'c': 1\n",
            "O menor valor é: 1.0\n"
          ]
        }
      ]
    },
    {
      "cell_type": "code",
      "source": [
        "a = float(input(\"Digite o valor de 'a': \"))\n",
        "b = float(input(\"Digite o valor de 'b': \"))\n",
        "c = float(input(\"Digite o valor de 'c': \"))\n",
        "\n",
        "if a <= b and a <= c:\n",
        "  menor_valor = a\n",
        "elif b <= a and b <= c:\n",
        "  menor_valor = b\n",
        "else:\n",
        "  menor_valor = c\n",
        "\n",
        "print(f\"O menor valor é: {menor_valor}\")\n",
        "\n"
      ],
      "metadata": {
        "colab": {
          "base_uri": "https://localhost:8080/"
        },
        "id": "SaEwKkaatNpr",
        "outputId": "af3d01f7-2a61-4343-f917-2c792fc417cb"
      },
      "execution_count": 19,
      "outputs": [
        {
          "output_type": "stream",
          "name": "stdout",
          "text": [
            "Digite o valor de 'a': 10\n",
            "Digite o valor de 'b': 15\n",
            "Digite o valor de 'c': 5\n",
            "O menor valor é: 5.0\n"
          ]
        }
      ]
    }
  ],
  "metadata": {
    "colab": {
      "name": "Damos-lhe as boas-vindas ao Colaboratory",
      "toc_visible": true,
      "provenance": [],
      "include_colab_link": true
    },
    "kernelspec": {
      "display_name": "Python 3",
      "name": "python3"
    }
  },
  "nbformat": 4,
  "nbformat_minor": 0
}