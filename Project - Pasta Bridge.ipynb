{
  "nbformat": 4,
  "nbformat_minor": 0,
  "metadata": {
    "colab": {
      "provenance": [],
      "authorship_tag": "ABX9TyNm8ML7hHu2Dif5j4N/4UAA",
      "include_colab_link": true
    },
    "kernelspec": {
      "name": "python3",
      "display_name": "Python 3"
    },
    "language_info": {
      "name": "python"
    }
  },
  "cells": [
    {
      "cell_type": "markdown",
      "metadata": {
        "id": "view-in-github",
        "colab_type": "text"
      },
      "source": [
        "<a href=\"https://colab.research.google.com/github/PedroH-DEV/Engenharia_Civil/blob/main/Project%20-%20Pasta%C2%A0Bridge.ipynb\" target=\"_parent\"><img src=\"https://colab.research.google.com/assets/colab-badge.svg\" alt=\"Open In Colab\"/></a>"
      ]
    },
    {
      "cell_type": "markdown",
      "source": [
        "# **Project - Pasta Bridge**"
      ],
      "metadata": {
        "id": "BDMxOe7kRNu3"
      }
    },
    {
      "cell_type": "markdown",
      "source": [
        "1) No programa a seguir, o programador deveria fazer o pseudocódigo, o fluxograma e código Python de um programa para solicitar ao usuário um valor de temperatura em Graus Celsius (C) e em seguida, converter e exibir o valor da temperatura correspondente em Graus Fahrenheit (F). Sabe-se que por uma desatenção, ele cometeu um mesmo erro tanto no pseudocódigo, no fluxograma quanto no código, fazendo com que a simulação do código gerasse o resultado exibido na Figura 1. Portanto, pede-se a você apontar o erro ocorrido (Valor = 1,5 Pontos) e informar como você corrigiria este erro (Valor = 1,5 Pontos). OBS: Basta mostrar somente o pseudocódigo, ou o fluxograma ou apenas o código corrigido para demonstrar como você corrigiria este erro. DICA: Atente para as variáveis e tipos de dados Pseudocódigo:\n",
        "Início:\n",
        "  inteiro: C\n",
        "  Caracter: F\n",
        "  Ler (C)\n",
        "  Calcular F = (9/5)*C) + '32'\n",
        "  Escrever (F)\n",
        "FIM"
      ],
      "metadata": {
        "id": "xKbgpDCKP6jS"
      }
    },
    {
      "cell_type": "code",
      "execution_count": 1,
      "metadata": {
        "colab": {
          "base_uri": "https://localhost:8080/"
        },
        "id": "imj53QfkP5z8",
        "outputId": "98a53c33-d1d6-4a18-d0ee-600d662e3dec"
      },
      "outputs": [
        {
          "output_type": "stream",
          "name": "stdout",
          "text": [
            "Digite temp. em graus Celsius: 27\n",
            "48.632\n"
          ]
        }
      ],
      "source": [
        "c = int(input(\"Digite temp. em graus Celsius: \"))\n",
        "f = str((9/5)*c) + '32'\n",
        "print(f)"
      ]
    },
    {
      "cell_type": "markdown",
      "source": [
        "Após analisar o codigo, nota-se que o individuo tentou gerar o cálculo de conversão utilizando a função STR que serve para textos, onde ele faz a tratativa do valor 32 como uma cadeia de caracteres ao inves de números.\n",
        "\n",
        "segue abaixo correçãos do erro encontrado no código."
      ],
      "metadata": {
        "id": "Twhz5VFTQVNk"
      }
    },
    {
      "cell_type": "code",
      "source": [
        "c = int(input(\"Digite temp. em graus Celsius: \"))\n",
        "f = ((9/5)*c) + 32\n",
        "print(f)"
      ],
      "metadata": {
        "colab": {
          "base_uri": "https://localhost:8080/"
        },
        "id": "tpBPd_DOQbFl",
        "outputId": "28642d1a-0568-4667-913e-27b5a8aebb0d"
      },
      "execution_count": 2,
      "outputs": [
        {
          "output_type": "stream",
          "name": "stdout",
          "text": [
            "Digite temp. em graus Celsius: 27\n",
            "80.6\n"
          ]
        }
      ]
    },
    {
      "cell_type": "markdown",
      "source": [
        "2) Quais são as 3 formas de se representar um algoritmo em linguagem de programação (Valor = 3,0 Pontos). Em seguida, escolha uma das formas e exemplifique (Valor = 0,5 Pontos)."
      ],
      "metadata": {
        "id": "UVUr1o-SQi7P"
      }
    },
    {
      "cell_type": "markdown",
      "source": [
        "As três formas de representar um algoritmo em linguagem de programação são:\n",
        "\n",
        "Pseudocódigo: Uma descrição informal de um algoritmo, usando uma linguagem semelhante à programação, mas mais fácil de entender.\n",
        "\n",
        "Fluxograma: Uma representação visual do algoritmo, usando formas geométricas para indicar diferentes etapas do processo.\n",
        "\n",
        "Código fonte: A implementação do algoritmo em uma linguagem de programação específica, como Python, Java, etc.\n",
        "\n",
        "Exemplo de Pseudocódigo Vamos considerar um algoritmo simples para calcular a soma de dois números:\n",
        "\n",
        "- Início\n",
        "    - Ler número1\n",
        "    - Ler número2\n",
        "    - soma = número1 + número2\n",
        "    - Escrever soma\n",
        "- Fim"
      ],
      "metadata": {
        "id": "xKYtz3G_Qpd4"
      }
    },
    {
      "cell_type": "markdown",
      "source": [
        "3) (Valor = 3,0 Pontos) Explique quais são os quatro principais tipos de dados usados em linguagem de programação e demonstre (Valor = 0,5 Pontos)."
      ],
      "metadata": {
        "id": "ezNcf9lMQ5dT"
      }
    },
    {
      "cell_type": "markdown",
      "source": [
        "Os quatro principais tipos de dados usados em linguagens de programação são:\n",
        "\n",
        "- Inteiros (int): Representam números inteiros, sem casas decimais. Exemplos incluem -3, 0, 42.\n",
        "\n",
        "- Ponto Flutuante (float): Representam números reais, que podem ter casas decimais. Exemplos incluem 3.14, -0.001, 2.0.\n",
        "\n",
        "- Strings (str): Representam sequências de caracteres, ou texto. Podem incluir letras, números e símbolos. Exemplos incluem \"Olá\", \"Python 3\", \"2021\".\n",
        "\n",
        "- Booleanos (bool): Representam valores de verdade, que podem ser True (verdadeiro) ou False (falso). São frequentemente usados em condições e controle de fluxo."
      ],
      "metadata": {
        "id": "SbHBOwSHRBGJ"
      }
    }
  ]
}